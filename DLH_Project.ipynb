{
  "nbformat": 4,
  "nbformat_minor": 0,
  "metadata": {
    "colab": {
      "provenance": [],
      "include_colab_link": true
    },
    "kernelspec": {
      "name": "python3",
      "display_name": "Python 3"
    },
    "language_info": {
      "name": "python"
    }
  },
  "cells": [
    {
      "cell_type": "markdown",
      "metadata": {
        "id": "view-in-github",
        "colab_type": "text"
      },
      "source": [
        "<a href=\"https://colab.research.google.com/github/cpayel25/cpayel25.github.io/blob/main/DLH_Project.ipynb\" target=\"_parent\"><img src=\"https://colab.research.google.com/assets/colab-badge.svg\" alt=\"Open In Colab\"/></a>"
      ]
    },
    {
      "cell_type": "code",
      "execution_count": null,
      "metadata": {
        "id": "01it2XqOXu7V"
      },
      "outputs": [],
      "source": [
        "#test"
      ]
    },
    {
      "cell_type": "markdown",
      "source": [
        "#Contributions\n"
      ],
      "metadata": {
        "id": "wpqxmwYkYXZr"
      }
    }
  ]
}